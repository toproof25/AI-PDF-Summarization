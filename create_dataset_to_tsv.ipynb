{
 "cells": [
  {
   "cell_type": "markdown",
   "id": "6cd991a5",
   "metadata": {},
   "source": [
    "# 데이터셋 json파일 -> csv or tsv로 추출하기"
   ]
  },
  {
   "cell_type": "code",
   "execution_count": 4,
   "id": "7c5222cb",
   "metadata": {},
   "outputs": [],
   "source": [
    "import os\n",
    "import json\n",
    "import pandas as pd\n",
    "from datetime import datetime"
   ]
  },
  {
   "cell_type": "markdown",
   "id": "8e236ed6",
   "metadata": {},
   "source": [
    "## 선택한 폴더 데이터(json)를 tsv로 변환"
   ]
  },
  {
   "cell_type": "code",
   "execution_count": 2,
   "id": "534d7472",
   "metadata": {},
   "outputs": [],
   "source": [
    "# 폴더 리스트 설정\n",
    "folder_list = [\n",
    "    \"01.news_r\",\n",
    "    \"02.briefing\",\n",
    "    \"03.his_cul\",\n",
    "    \"04.paper\",\n",
    "    \"05.minute\",\n",
    "    \"06.edit\",\n",
    "    \"07.public\",\n",
    "    \"08.speech\",\n",
    "    \"09.literature\",\n",
    "    \"10.narration\"\n",
    "]\n",
    "\n",
    "# 기본 경로 설정\n",
    "train_folder_path = 'C:/Users/kmn27/Downloads/01.데이터/1.Training/라벨링데이터'\n",
    "valid_folder_path = 'C:/Users/kmn27/Downloads/01.데이터/2.Validation/라벨링데이터'"
   ]
  },
  {
   "cell_type": "code",
   "execution_count": 3,
   "id": "eae1e798",
   "metadata": {},
   "outputs": [
    {
     "name": "stdout",
     "output_type": "stream",
     "text": [
      "데이터 번호를 선택하세요:\n",
      "1: news_r\n",
      "2: briefing\n",
      "3: his_cul\n",
      "4: paper\n",
      "5: minute\n",
      "6: edit\n",
      "7: public\n",
      "8: speech\n",
      "9: literature\n",
      "10: narration\n"
     ]
    },
    {
     "name": "stderr",
     "output_type": "stream",
     "text": [
      "\n",
      "KeyboardInterrupt\n",
      "\n"
     ]
    }
   ],
   "source": [
    "# 데이터 번호와 이름을 출력\n",
    "print(\"데이터 번호를 선택하세요:\")\n",
    "for idx, folder_name in enumerate(folder_list, start=1):\n",
    "    readable_name = folder_name.split('.')[1]  # 폴더명에서 숫자 제외\n",
    "    print(f\"{idx}: {readable_name}\")\n",
    "\n",
    "# 사용자 입력\n",
    "folder_index = int(input(\"번호: \")) - 1\n",
    "if folder_index < 0 or folder_index >= len(folder_list):\n",
    "    raise ValueError(\"1~10 사이의 값을 입력해야 합니다!\")\n",
    "\n",
    "print(\"\\n\\n유형을 선택하세요 (1: 학습 데이터, 2: 시험 데이터):\")\n",
    "data_type = int(input(\"번호: \"))\n",
    "if data_type not in [1, 2]:\n",
    "    raise ValueError(\"1 또는 2를 입력해야 합니다!\")\n",
    "    \n",
    "# 데이터 경로 및 폴더 선택\n",
    "selected_folder = folder_list[folder_index]\n",
    "base_folder_path = train_folder_path if data_type == 1 else valid_folder_path"
   ]
  },
  {
   "cell_type": "code",
   "execution_count": 16,
   "id": "18b79f5e",
   "metadata": {},
   "outputs": [
    {
     "name": "stdout",
     "output_type": "stream",
     "text": [
      "TSV 파일이 성공적으로 생성되었습니다: dataset_valid_literature_1229.tsv\n"
     ]
    }
   ],
   "source": [
    "# 데이터를 저장할 빈 리스트\n",
    "data = []\n",
    "\n",
    "# JSON 데이터 읽기 및 처리\n",
    "folder_path = os.path.join(base_folder_path, selected_folder, '2~3sent')\n",
    "if os.path.exists(folder_path):  # 폴더가 존재하는지 확인\n",
    "    for filename in os.listdir(folder_path):\n",
    "        if filename.endswith('.json'):\n",
    "            file_path = os.path.join(folder_path, filename)\n",
    "            with open(file_path, 'r', encoding='utf-8') as file:\n",
    "                json_data = json.load(file)\n",
    "                passage = json_data.get('Meta(Refine)', {}).get('passage', '')\n",
    "                summary = json_data.get('Annotation', {}).get('summary1', '')\n",
    "\n",
    "                data.append({\n",
    "                    'news': passage,\n",
    "                    'summary': summary\n",
    "                })\n",
    "else:\n",
    "    raise FileNotFoundError(f\"선택한 폴더 {folder_path}가 존재하지 않습니다!\")\n",
    "\n",
    "# 데이터프레임 생성\n",
    "df = pd.DataFrame(data)\n",
    "\n",
    "# 현재 시간으로 파일 이름 생성\n",
    "now = datetime.now().strftime('%H%M')\n",
    "data_type_str = \"train\" if data_type == 1 else \"valid\"\n",
    "folder_name = selected_folder.split('.')[1]  # \"01.news_r\"에서 \"news_r\" 추출\n",
    "tsv_file_name = f\"dataset_{data_type_str}_{folder_name}_{now}.tsv\"\n",
    "\n",
    "# TSV 파일 저장\n",
    "df.to_csv(tsv_file_name, index=False, encoding='utf-8-sig', sep='\\t')\n",
    "\n",
    "print(f\"TSV 파일이 성공적으로 생성되었습니다: {tsv_file_name}\")"
   ]
  },
  {
   "cell_type": "markdown",
   "id": "8009ad29",
   "metadata": {},
   "source": [
    "## 전체 데이터(json)를 tsv로 변환"
   ]
  },
  {
   "cell_type": "code",
   "execution_count": 18,
   "id": "2f3c128e",
   "metadata": {},
   "outputs": [
    {
     "name": "stdout",
     "output_type": "stream",
     "text": [
      "학습 데이터 처리 중...\n"
     ]
    },
    {
     "name": "stderr",
     "output_type": "stream",
     "text": [
      "Processing folders: 100%|██████████| 10/10 [00:06<00:00,  1.64it/s]\n"
     ]
    },
    {
     "name": "stdout",
     "output_type": "stream",
     "text": [
      "\n",
      "시험 데이터 처리 중...\n"
     ]
    },
    {
     "name": "stderr",
     "output_type": "stream",
     "text": [
      "Processing folders: 100%|██████████| 10/10 [00:00<00:00, 12.90it/s]\n"
     ]
    },
    {
     "name": "stdout",
     "output_type": "stream",
     "text": [
      "학습용 TSV 파일이 성공적으로 생성되었습니다: dataset_train_all_1247.tsv\n",
      "시험용 TSV 파일이 성공적으로 생성되었습니다: dataset_valid_all_1247.tsv\n"
     ]
    }
   ],
   "source": [
    "import os\n",
    "import json\n",
    "import pandas as pd\n",
    "from datetime import datetime\n",
    "from tqdm import tqdm\n",
    "\n",
    "# 폴더 리스트 설정\n",
    "folder_list = [\n",
    "    \"01.news_r\",\n",
    "    \"02.briefing\",\n",
    "    \"03.his_cul\",\n",
    "    \"04.paper\",\n",
    "    \"05.minute\",\n",
    "    \"06.edit\",\n",
    "    \"07.public\",\n",
    "    \"08.speech\",\n",
    "    \"09.literature\",\n",
    "    \"10.narration\"\n",
    "]\n",
    "\n",
    "# 경로 설정\n",
    "train_folder_path = 'C:/Users/kmn27/Downloads/01.데이터/1.Training/라벨링데이터'\n",
    "valid_folder_path = 'C:/Users/kmn27/Downloads/01.데이터/2.Validation/라벨링데이터'\n",
    "\n",
    "# 데이터를 저장할 빈 리스트\n",
    "train_data = []\n",
    "valid_data = []\n",
    "\n",
    "# JSON 데이터 읽기 및 처리\n",
    "def process_json_files(base_folder_path, data_list):\n",
    "    for folder in tqdm(folder_list, desc=\"Processing folders\"):\n",
    "        folder_path = os.path.join(base_folder_path, folder, '2~3sent')\n",
    "        if os.path.exists(folder_path):\n",
    "            for filename in os.listdir(folder_path):\n",
    "                if filename.endswith('.json'):\n",
    "                    file_path = os.path.join(folder_path, filename)\n",
    "                    with open(file_path, 'r', encoding='utf-8') as file:\n",
    "                        json_data = json.load(file)\n",
    "                        passage = json_data.get('Meta(Refine)', {}).get('passage', '')\n",
    "                        summary = json_data.get('Annotation', {}).get('summary1', '')\n",
    "                        data_list.append({\n",
    "                            'news': passage,\n",
    "                            'summary': summary\n",
    "                        })\n",
    "        else:\n",
    "            print(f\"폴더 {folder_path}가 존재하지 않습니다.\")\n",
    "\n",
    "# 학습 및 시험 데이터 처리\n",
    "print(\"학습 데이터 처리 중...\")\n",
    "process_json_files(train_folder_path, train_data)\n",
    "\n",
    "print(\"\\n시험 데이터 처리 중...\")\n",
    "process_json_files(valid_folder_path, valid_data)\n",
    "\n",
    "# 데이터프레임 생성\n",
    "train_df = pd.DataFrame(train_data)\n",
    "valid_df = pd.DataFrame(valid_data)\n",
    "\n",
    "# 현재 시간으로 파일 이름 생성\n",
    "now = datetime.now().strftime('%H%M')\n",
    "train_tsv_file_name = f\"dataset_train_all_{now}.tsv\"\n",
    "valid_tsv_file_name = f\"dataset_valid_all_{now}.tsv\"\n",
    "\n",
    "# TSV 파일 저장\n",
    "train_df.to_csv(train_tsv_file_name, index=False, encoding='utf-8-sig', sep='\\t')\n",
    "valid_df.to_csv(valid_tsv_file_name, index=False, encoding='utf-8-sig', sep='\\t')\n",
    "\n",
    "print(f\"학습용 TSV 파일이 성공적으로 생성되었습니다: {train_tsv_file_name}\")\n",
    "print(f\"시험용 TSV 파일이 성공적으로 생성되었습니다: {valid_tsv_file_name}\")\n"
   ]
  },
  {
   "cell_type": "code",
   "execution_count": 6,
   "id": "f3f748b4-a09d-4f8a-87b2-f249438d9e94",
   "metadata": {},
   "outputs": [
    {
     "name": "stdout",
     "output_type": "stream",
     "text": [
      "데이터 수: 9151\n",
      "                                                   news  \\\n",
      "3635  김진표 위원] \"본 위원은 정부에서 일할 때 우리 군에서 지속적으로 총기 사고나 자...   \n",
      "\n",
      "                                                summary  \n",
      "3635  김 위원이 군에서 지속적으로 자살사고나 총기 사고가 일어나는 원인은 좋은 여건에서 ...  \n"
     ]
    }
   ],
   "source": [
    "# 데이터 경로\n",
    "test_path = \"C:/Users/USER/OneDrive/onedrive/학교/2024-3학년-2학기/기계학습/final/dataset/test.tsv\"\n",
    "\n",
    "# tsv 파일 읽기\n",
    "test_data = pd.read_csv(test_path, sep='\\t', header=None, names=[\"news\", \"summary\"])\n",
    "print(\"데이터 수:\", len(test_data))\n",
    "\n",
    "print(test_data.sample(1))"
   ]
  },
  {
   "cell_type": "code",
   "execution_count": null,
   "id": "fafc55d7",
   "metadata": {},
   "outputs": [],
   "source": []
  }
 ],
 "metadata": {
  "kernelspec": {
   "display_name": "Python 3 (ipykernel)",
   "language": "python",
   "name": "python3"
  },
  "language_info": {
   "codemirror_mode": {
    "name": "ipython",
    "version": 3
   },
   "file_extension": ".py",
   "mimetype": "text/x-python",
   "name": "python",
   "nbconvert_exporter": "python",
   "pygments_lexer": "ipython3",
   "version": "3.11.7"
  }
 },
 "nbformat": 4,
 "nbformat_minor": 5
}
